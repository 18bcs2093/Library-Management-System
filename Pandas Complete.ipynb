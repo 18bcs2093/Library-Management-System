{
 "cells": [
  {
   "cell_type": "code",
   "execution_count": 1,
   "id": "817ad440",
   "metadata": {},
   "outputs": [],
   "source": [
    "import pandas as pd\n",
    "import numpy as np"
   ]
  },
  {
   "cell_type": "code",
   "execution_count": 2,
   "id": "2f1ae7b3",
   "metadata": {},
   "outputs": [],
   "source": [
    "dict1 = {\n",
    "    \"name\":['Harry','rohan','skilldf','shubh'],\n",
    "    \"marks\":[92,34,24,17],\n",
    "    \"city\":['rampur','kolkata','bareilly','antartica']\n",
    "}"
   ]
  },
  {
   "cell_type": "code",
   "execution_count": 3,
   "id": "0ee1ab98",
   "metadata": {},
   "outputs": [],
   "source": [
    "df = pd.DataFrame(dict1)"
   ]
  },
  {
   "cell_type": "code",
   "execution_count": 4,
   "id": "a20c9107",
   "metadata": {},
   "outputs": [
    {
     "data": {
      "text/html": [
       "<div>\n",
       "<style scoped>\n",
       "    .dataframe tbody tr th:only-of-type {\n",
       "        vertical-align: middle;\n",
       "    }\n",
       "\n",
       "    .dataframe tbody tr th {\n",
       "        vertical-align: top;\n",
       "    }\n",
       "\n",
       "    .dataframe thead th {\n",
       "        text-align: right;\n",
       "    }\n",
       "</style>\n",
       "<table border=\"1\" class=\"dataframe\">\n",
       "  <thead>\n",
       "    <tr style=\"text-align: right;\">\n",
       "      <th></th>\n",
       "      <th>name</th>\n",
       "      <th>marks</th>\n",
       "      <th>city</th>\n",
       "    </tr>\n",
       "  </thead>\n",
       "  <tbody>\n",
       "    <tr>\n",
       "      <th>0</th>\n",
       "      <td>Harry</td>\n",
       "      <td>92</td>\n",
       "      <td>rampur</td>\n",
       "    </tr>\n",
       "    <tr>\n",
       "      <th>1</th>\n",
       "      <td>rohan</td>\n",
       "      <td>34</td>\n",
       "      <td>kolkata</td>\n",
       "    </tr>\n",
       "    <tr>\n",
       "      <th>2</th>\n",
       "      <td>skilldf</td>\n",
       "      <td>24</td>\n",
       "      <td>bareilly</td>\n",
       "    </tr>\n",
       "    <tr>\n",
       "      <th>3</th>\n",
       "      <td>shubh</td>\n",
       "      <td>17</td>\n",
       "      <td>antartica</td>\n",
       "    </tr>\n",
       "  </tbody>\n",
       "</table>\n",
       "</div>"
      ],
      "text/plain": [
       "      name  marks       city\n",
       "0    Harry     92     rampur\n",
       "1    rohan     34    kolkata\n",
       "2  skilldf     24   bareilly\n",
       "3    shubh     17  antartica"
      ]
     },
     "execution_count": 4,
     "metadata": {},
     "output_type": "execute_result"
    }
   ],
   "source": [
    "df"
   ]
  },
  {
   "cell_type": "code",
   "execution_count": 5,
   "id": "a21d02f0",
   "metadata": {},
   "outputs": [],
   "source": [
    "df.to_csv(\"dict1.csv\")"
   ]
  },
  {
   "cell_type": "code",
   "execution_count": 6,
   "id": "da352687",
   "metadata": {},
   "outputs": [],
   "source": [
    "df.to_csv(\"dict1_index_false.csv\",index=False)"
   ]
  },
  {
   "cell_type": "code",
   "execution_count": 7,
   "id": "6dacc527",
   "metadata": {},
   "outputs": [
    {
     "data": {
      "text/html": [
       "<div>\n",
       "<style scoped>\n",
       "    .dataframe tbody tr th:only-of-type {\n",
       "        vertical-align: middle;\n",
       "    }\n",
       "\n",
       "    .dataframe tbody tr th {\n",
       "        vertical-align: top;\n",
       "    }\n",
       "\n",
       "    .dataframe thead th {\n",
       "        text-align: right;\n",
       "    }\n",
       "</style>\n",
       "<table border=\"1\" class=\"dataframe\">\n",
       "  <thead>\n",
       "    <tr style=\"text-align: right;\">\n",
       "      <th></th>\n",
       "      <th>name</th>\n",
       "      <th>marks</th>\n",
       "      <th>city</th>\n",
       "    </tr>\n",
       "  </thead>\n",
       "  <tbody>\n",
       "    <tr>\n",
       "      <th>0</th>\n",
       "      <td>Harry</td>\n",
       "      <td>92</td>\n",
       "      <td>rampur</td>\n",
       "    </tr>\n",
       "    <tr>\n",
       "      <th>1</th>\n",
       "      <td>rohan</td>\n",
       "      <td>34</td>\n",
       "      <td>kolkata</td>\n",
       "    </tr>\n",
       "  </tbody>\n",
       "</table>\n",
       "</div>"
      ],
      "text/plain": [
       "    name  marks     city\n",
       "0  Harry     92   rampur\n",
       "1  rohan     34  kolkata"
      ]
     },
     "execution_count": 7,
     "metadata": {},
     "output_type": "execute_result"
    }
   ],
   "source": [
    "df.head(2)"
   ]
  },
  {
   "cell_type": "code",
   "execution_count": 8,
   "id": "faf39ac4",
   "metadata": {},
   "outputs": [
    {
     "data": {
      "text/html": [
       "<div>\n",
       "<style scoped>\n",
       "    .dataframe tbody tr th:only-of-type {\n",
       "        vertical-align: middle;\n",
       "    }\n",
       "\n",
       "    .dataframe tbody tr th {\n",
       "        vertical-align: top;\n",
       "    }\n",
       "\n",
       "    .dataframe thead th {\n",
       "        text-align: right;\n",
       "    }\n",
       "</style>\n",
       "<table border=\"1\" class=\"dataframe\">\n",
       "  <thead>\n",
       "    <tr style=\"text-align: right;\">\n",
       "      <th></th>\n",
       "      <th>name</th>\n",
       "      <th>marks</th>\n",
       "      <th>city</th>\n",
       "    </tr>\n",
       "  </thead>\n",
       "  <tbody>\n",
       "    <tr>\n",
       "      <th>2</th>\n",
       "      <td>skilldf</td>\n",
       "      <td>24</td>\n",
       "      <td>bareilly</td>\n",
       "    </tr>\n",
       "    <tr>\n",
       "      <th>3</th>\n",
       "      <td>shubh</td>\n",
       "      <td>17</td>\n",
       "      <td>antartica</td>\n",
       "    </tr>\n",
       "  </tbody>\n",
       "</table>\n",
       "</div>"
      ],
      "text/plain": [
       "      name  marks       city\n",
       "2  skilldf     24   bareilly\n",
       "3    shubh     17  antartica"
      ]
     },
     "execution_count": 8,
     "metadata": {},
     "output_type": "execute_result"
    }
   ],
   "source": [
    "df.tail(2)"
   ]
  },
  {
   "cell_type": "code",
   "execution_count": 9,
   "id": "c8037da8",
   "metadata": {},
   "outputs": [
    {
     "data": {
      "text/html": [
       "<div>\n",
       "<style scoped>\n",
       "    .dataframe tbody tr th:only-of-type {\n",
       "        vertical-align: middle;\n",
       "    }\n",
       "\n",
       "    .dataframe tbody tr th {\n",
       "        vertical-align: top;\n",
       "    }\n",
       "\n",
       "    .dataframe thead th {\n",
       "        text-align: right;\n",
       "    }\n",
       "</style>\n",
       "<table border=\"1\" class=\"dataframe\">\n",
       "  <thead>\n",
       "    <tr style=\"text-align: right;\">\n",
       "      <th></th>\n",
       "      <th>marks</th>\n",
       "    </tr>\n",
       "  </thead>\n",
       "  <tbody>\n",
       "    <tr>\n",
       "      <th>count</th>\n",
       "      <td>4.00000</td>\n",
       "    </tr>\n",
       "    <tr>\n",
       "      <th>mean</th>\n",
       "      <td>41.75000</td>\n",
       "    </tr>\n",
       "    <tr>\n",
       "      <th>std</th>\n",
       "      <td>34.21866</td>\n",
       "    </tr>\n",
       "    <tr>\n",
       "      <th>min</th>\n",
       "      <td>17.00000</td>\n",
       "    </tr>\n",
       "    <tr>\n",
       "      <th>25%</th>\n",
       "      <td>22.25000</td>\n",
       "    </tr>\n",
       "    <tr>\n",
       "      <th>50%</th>\n",
       "      <td>29.00000</td>\n",
       "    </tr>\n",
       "    <tr>\n",
       "      <th>75%</th>\n",
       "      <td>48.50000</td>\n",
       "    </tr>\n",
       "    <tr>\n",
       "      <th>max</th>\n",
       "      <td>92.00000</td>\n",
       "    </tr>\n",
       "  </tbody>\n",
       "</table>\n",
       "</div>"
      ],
      "text/plain": [
       "          marks\n",
       "count   4.00000\n",
       "mean   41.75000\n",
       "std    34.21866\n",
       "min    17.00000\n",
       "25%    22.25000\n",
       "50%    29.00000\n",
       "75%    48.50000\n",
       "max    92.00000"
      ]
     },
     "execution_count": 9,
     "metadata": {},
     "output_type": "execute_result"
    }
   ],
   "source": [
    "df.describe()"
   ]
  },
  {
   "cell_type": "code",
   "execution_count": 10,
   "id": "bd650aed",
   "metadata": {},
   "outputs": [],
   "source": [
    "train=pd.read_csv('train.csv')"
   ]
  },
  {
   "cell_type": "code",
   "execution_count": 11,
   "id": "4d3acc01",
   "metadata": {},
   "outputs": [
    {
     "data": {
      "text/html": [
       "<div>\n",
       "<style scoped>\n",
       "    .dataframe tbody tr th:only-of-type {\n",
       "        vertical-align: middle;\n",
       "    }\n",
       "\n",
       "    .dataframe tbody tr th {\n",
       "        vertical-align: top;\n",
       "    }\n",
       "\n",
       "    .dataframe thead th {\n",
       "        text-align: right;\n",
       "    }\n",
       "</style>\n",
       "<table border=\"1\" class=\"dataframe\">\n",
       "  <thead>\n",
       "    <tr style=\"text-align: right;\">\n",
       "      <th></th>\n",
       "      <th>Train no2</th>\n",
       "      <th>Speed2</th>\n",
       "      <th>city2</th>\n",
       "    </tr>\n",
       "  </thead>\n",
       "  <tbody>\n",
       "    <tr>\n",
       "      <th>0</th>\n",
       "      <td>12332</td>\n",
       "      <td>50</td>\n",
       "      <td>rampur</td>\n",
       "    </tr>\n",
       "    <tr>\n",
       "      <th>1</th>\n",
       "      <td>1234</td>\n",
       "      <td>34</td>\n",
       "      <td>kolkata</td>\n",
       "    </tr>\n",
       "    <tr>\n",
       "      <th>2</th>\n",
       "      <td>125654</td>\n",
       "      <td>24</td>\n",
       "      <td>bareilly</td>\n",
       "    </tr>\n",
       "    <tr>\n",
       "      <th>3</th>\n",
       "      <td>56453</td>\n",
       "      <td>17</td>\n",
       "      <td>antartica</td>\n",
       "    </tr>\n",
       "  </tbody>\n",
       "</table>\n",
       "</div>"
      ],
      "text/plain": [
       "   Train no2  Speed2      city2\n",
       "0      12332      50     rampur\n",
       "1       1234      34    kolkata\n",
       "2     125654      24   bareilly\n",
       "3      56453      17  antartica"
      ]
     },
     "execution_count": 11,
     "metadata": {},
     "output_type": "execute_result"
    }
   ],
   "source": [
    "train"
   ]
  },
  {
   "cell_type": "code",
   "execution_count": 12,
   "id": "84472a84",
   "metadata": {},
   "outputs": [],
   "source": [
    "# train['Speed'][0]=50"
   ]
  },
  {
   "cell_type": "code",
   "execution_count": 13,
   "id": "334f1a92",
   "metadata": {},
   "outputs": [
    {
     "data": {
      "text/html": [
       "<div>\n",
       "<style scoped>\n",
       "    .dataframe tbody tr th:only-of-type {\n",
       "        vertical-align: middle;\n",
       "    }\n",
       "\n",
       "    .dataframe tbody tr th {\n",
       "        vertical-align: top;\n",
       "    }\n",
       "\n",
       "    .dataframe thead th {\n",
       "        text-align: right;\n",
       "    }\n",
       "</style>\n",
       "<table border=\"1\" class=\"dataframe\">\n",
       "  <thead>\n",
       "    <tr style=\"text-align: right;\">\n",
       "      <th></th>\n",
       "      <th>Train no2</th>\n",
       "      <th>Speed2</th>\n",
       "      <th>city2</th>\n",
       "    </tr>\n",
       "  </thead>\n",
       "  <tbody>\n",
       "    <tr>\n",
       "      <th>0</th>\n",
       "      <td>12332</td>\n",
       "      <td>50</td>\n",
       "      <td>rampur</td>\n",
       "    </tr>\n",
       "    <tr>\n",
       "      <th>1</th>\n",
       "      <td>1234</td>\n",
       "      <td>34</td>\n",
       "      <td>kolkata</td>\n",
       "    </tr>\n",
       "    <tr>\n",
       "      <th>2</th>\n",
       "      <td>125654</td>\n",
       "      <td>24</td>\n",
       "      <td>bareilly</td>\n",
       "    </tr>\n",
       "    <tr>\n",
       "      <th>3</th>\n",
       "      <td>56453</td>\n",
       "      <td>17</td>\n",
       "      <td>antartica</td>\n",
       "    </tr>\n",
       "  </tbody>\n",
       "</table>\n",
       "</div>"
      ],
      "text/plain": [
       "   Train no2  Speed2      city2\n",
       "0      12332      50     rampur\n",
       "1       1234      34    kolkata\n",
       "2     125654      24   bareilly\n",
       "3      56453      17  antartica"
      ]
     },
     "execution_count": 13,
     "metadata": {},
     "output_type": "execute_result"
    }
   ],
   "source": [
    "train"
   ]
  },
  {
   "cell_type": "code",
   "execution_count": 14,
   "id": "030a6e61",
   "metadata": {},
   "outputs": [],
   "source": [
    "train.to_csv('train.csv')"
   ]
  },
  {
   "cell_type": "code",
   "execution_count": 15,
   "id": "0853f764",
   "metadata": {},
   "outputs": [],
   "source": [
    "train.index=['first','second','third','fourth']"
   ]
  },
  {
   "cell_type": "code",
   "execution_count": 16,
   "id": "7144a842",
   "metadata": {},
   "outputs": [
    {
     "data": {
      "text/html": [
       "<div>\n",
       "<style scoped>\n",
       "    .dataframe tbody tr th:only-of-type {\n",
       "        vertical-align: middle;\n",
       "    }\n",
       "\n",
       "    .dataframe tbody tr th {\n",
       "        vertical-align: top;\n",
       "    }\n",
       "\n",
       "    .dataframe thead th {\n",
       "        text-align: right;\n",
       "    }\n",
       "</style>\n",
       "<table border=\"1\" class=\"dataframe\">\n",
       "  <thead>\n",
       "    <tr style=\"text-align: right;\">\n",
       "      <th></th>\n",
       "      <th>Train no2</th>\n",
       "      <th>Speed2</th>\n",
       "      <th>city2</th>\n",
       "    </tr>\n",
       "  </thead>\n",
       "  <tbody>\n",
       "    <tr>\n",
       "      <th>first</th>\n",
       "      <td>12332</td>\n",
       "      <td>50</td>\n",
       "      <td>rampur</td>\n",
       "    </tr>\n",
       "    <tr>\n",
       "      <th>second</th>\n",
       "      <td>1234</td>\n",
       "      <td>34</td>\n",
       "      <td>kolkata</td>\n",
       "    </tr>\n",
       "    <tr>\n",
       "      <th>third</th>\n",
       "      <td>125654</td>\n",
       "      <td>24</td>\n",
       "      <td>bareilly</td>\n",
       "    </tr>\n",
       "    <tr>\n",
       "      <th>fourth</th>\n",
       "      <td>56453</td>\n",
       "      <td>17</td>\n",
       "      <td>antartica</td>\n",
       "    </tr>\n",
       "  </tbody>\n",
       "</table>\n",
       "</div>"
      ],
      "text/plain": [
       "        Train no2  Speed2      city2\n",
       "first       12332      50     rampur\n",
       "second       1234      34    kolkata\n",
       "third      125654      24   bareilly\n",
       "fourth      56453      17  antartica"
      ]
     },
     "execution_count": 16,
     "metadata": {},
     "output_type": "execute_result"
    }
   ],
   "source": [
    "train"
   ]
  },
  {
   "cell_type": "code",
   "execution_count": 17,
   "id": "772b3840",
   "metadata": {},
   "outputs": [],
   "source": [
    "ser = pd.Series(np.random.rand(32))"
   ]
  },
  {
   "cell_type": "code",
   "execution_count": 18,
   "id": "10a20af0",
   "metadata": {},
   "outputs": [
    {
     "data": {
      "text/plain": [
       "0     0.356828\n",
       "1     0.641693\n",
       "2     0.167857\n",
       "3     0.462749\n",
       "4     0.898693\n",
       "5     0.374195\n",
       "6     0.469101\n",
       "7     0.641303\n",
       "8     0.035873\n",
       "9     0.926088\n",
       "10    0.912306\n",
       "11    0.293083\n",
       "12    0.337157\n",
       "13    0.810422\n",
       "14    0.257552\n",
       "15    0.913633\n",
       "16    0.578185\n",
       "17    0.008227\n",
       "18    0.403516\n",
       "19    0.750611\n",
       "20    0.429878\n",
       "21    0.590172\n",
       "22    0.339516\n",
       "23    0.353963\n",
       "24    0.892610\n",
       "25    0.678238\n",
       "26    0.300109\n",
       "27    0.716770\n",
       "28    0.631858\n",
       "29    0.170236\n",
       "30    0.267920\n",
       "31    0.419091\n",
       "dtype: float64"
      ]
     },
     "execution_count": 18,
     "metadata": {},
     "output_type": "execute_result"
    }
   ],
   "source": [
    "ser"
   ]
  },
  {
   "cell_type": "code",
   "execution_count": 19,
   "id": "e66c90dd",
   "metadata": {},
   "outputs": [
    {
     "data": {
      "text/plain": [
       "0.41909107965900183"
      ]
     },
     "execution_count": 19,
     "metadata": {},
     "output_type": "execute_result"
    }
   ],
   "source": [
    "ser[31]"
   ]
  },
  {
   "cell_type": "code",
   "execution_count": 20,
   "id": "5726c14e",
   "metadata": {},
   "outputs": [],
   "source": [
    "newdf = pd.DataFrame(np.random.rand(334,5),index=np.arange(334))"
   ]
  },
  {
   "cell_type": "code",
   "execution_count": 21,
   "id": "09281081",
   "metadata": {},
   "outputs": [
    {
     "data": {
      "text/html": [
       "<div>\n",
       "<style scoped>\n",
       "    .dataframe tbody tr th:only-of-type {\n",
       "        vertical-align: middle;\n",
       "    }\n",
       "\n",
       "    .dataframe tbody tr th {\n",
       "        vertical-align: top;\n",
       "    }\n",
       "\n",
       "    .dataframe thead th {\n",
       "        text-align: right;\n",
       "    }\n",
       "</style>\n",
       "<table border=\"1\" class=\"dataframe\">\n",
       "  <thead>\n",
       "    <tr style=\"text-align: right;\">\n",
       "      <th></th>\n",
       "      <th>0</th>\n",
       "      <th>1</th>\n",
       "      <th>2</th>\n",
       "      <th>3</th>\n",
       "      <th>4</th>\n",
       "    </tr>\n",
       "  </thead>\n",
       "  <tbody>\n",
       "    <tr>\n",
       "      <th>0</th>\n",
       "      <td>0.085754</td>\n",
       "      <td>0.932020</td>\n",
       "      <td>0.646179</td>\n",
       "      <td>0.151600</td>\n",
       "      <td>0.746533</td>\n",
       "    </tr>\n",
       "    <tr>\n",
       "      <th>1</th>\n",
       "      <td>0.205349</td>\n",
       "      <td>0.933184</td>\n",
       "      <td>0.869508</td>\n",
       "      <td>0.529538</td>\n",
       "      <td>0.380353</td>\n",
       "    </tr>\n",
       "    <tr>\n",
       "      <th>2</th>\n",
       "      <td>0.774280</td>\n",
       "      <td>0.776519</td>\n",
       "      <td>0.679166</td>\n",
       "      <td>0.681100</td>\n",
       "      <td>0.979347</td>\n",
       "    </tr>\n",
       "    <tr>\n",
       "      <th>3</th>\n",
       "      <td>0.211965</td>\n",
       "      <td>0.470820</td>\n",
       "      <td>0.967389</td>\n",
       "      <td>0.922481</td>\n",
       "      <td>0.850861</td>\n",
       "    </tr>\n",
       "    <tr>\n",
       "      <th>4</th>\n",
       "      <td>0.441868</td>\n",
       "      <td>0.431195</td>\n",
       "      <td>0.686693</td>\n",
       "      <td>0.483623</td>\n",
       "      <td>0.585538</td>\n",
       "    </tr>\n",
       "  </tbody>\n",
       "</table>\n",
       "</div>"
      ],
      "text/plain": [
       "          0         1         2         3         4\n",
       "0  0.085754  0.932020  0.646179  0.151600  0.746533\n",
       "1  0.205349  0.933184  0.869508  0.529538  0.380353\n",
       "2  0.774280  0.776519  0.679166  0.681100  0.979347\n",
       "3  0.211965  0.470820  0.967389  0.922481  0.850861\n",
       "4  0.441868  0.431195  0.686693  0.483623  0.585538"
      ]
     },
     "execution_count": 21,
     "metadata": {},
     "output_type": "execute_result"
    }
   ],
   "source": [
    "newdf.head()"
   ]
  },
  {
   "cell_type": "code",
   "execution_count": 37,
   "id": "9b783198",
   "metadata": {},
   "outputs": [
    {
     "data": {
      "text/html": [
       "<div>\n",
       "<style scoped>\n",
       "    .dataframe tbody tr th:only-of-type {\n",
       "        vertical-align: middle;\n",
       "    }\n",
       "\n",
       "    .dataframe tbody tr th {\n",
       "        vertical-align: top;\n",
       "    }\n",
       "\n",
       "    .dataframe thead th {\n",
       "        text-align: right;\n",
       "    }\n",
       "</style>\n",
       "<table border=\"1\" class=\"dataframe\">\n",
       "  <thead>\n",
       "    <tr style=\"text-align: right;\">\n",
       "      <th></th>\n",
       "      <th>0</th>\n",
       "      <th>1</th>\n",
       "      <th>2</th>\n",
       "      <th>3</th>\n",
       "      <th>4</th>\n",
       "      <th>5</th>\n",
       "    </tr>\n",
       "  </thead>\n",
       "  <tbody>\n",
       "    <tr>\n",
       "      <th>0</th>\n",
       "      <td>0.3</td>\n",
       "      <td>0.932020</td>\n",
       "      <td>0.646179</td>\n",
       "      <td>0.151600</td>\n",
       "      <td>0.746533</td>\n",
       "      <td>25</td>\n",
       "    </tr>\n",
       "    <tr>\n",
       "      <th>1</th>\n",
       "      <td>0.205349</td>\n",
       "      <td>0.933184</td>\n",
       "      <td>0.869508</td>\n",
       "      <td>0.529538</td>\n",
       "      <td>0.380353</td>\n",
       "      <td>93</td>\n",
       "    </tr>\n",
       "    <tr>\n",
       "      <th>2</th>\n",
       "      <td>0.77428</td>\n",
       "      <td>0.776519</td>\n",
       "      <td>0.679166</td>\n",
       "      <td>0.681100</td>\n",
       "      <td>0.979347</td>\n",
       "      <td>59</td>\n",
       "    </tr>\n",
       "    <tr>\n",
       "      <th>3</th>\n",
       "      <td>0.211965</td>\n",
       "      <td>0.470820</td>\n",
       "      <td>0.967389</td>\n",
       "      <td>0.922481</td>\n",
       "      <td>0.850861</td>\n",
       "      <td>64</td>\n",
       "    </tr>\n",
       "    <tr>\n",
       "      <th>4</th>\n",
       "      <td>0.441868</td>\n",
       "      <td>0.431195</td>\n",
       "      <td>0.686693</td>\n",
       "      <td>0.483623</td>\n",
       "      <td>0.585538</td>\n",
       "      <td>9</td>\n",
       "    </tr>\n",
       "    <tr>\n",
       "      <th>...</th>\n",
       "      <td>...</td>\n",
       "      <td>...</td>\n",
       "      <td>...</td>\n",
       "      <td>...</td>\n",
       "      <td>...</td>\n",
       "      <td>...</td>\n",
       "    </tr>\n",
       "    <tr>\n",
       "      <th>329</th>\n",
       "      <td>0.458612</td>\n",
       "      <td>0.019907</td>\n",
       "      <td>0.219379</td>\n",
       "      <td>0.266624</td>\n",
       "      <td>0.027880</td>\n",
       "      <td>12</td>\n",
       "    </tr>\n",
       "    <tr>\n",
       "      <th>330</th>\n",
       "      <td>0.015787</td>\n",
       "      <td>0.162353</td>\n",
       "      <td>0.998286</td>\n",
       "      <td>0.227778</td>\n",
       "      <td>0.872603</td>\n",
       "      <td>98</td>\n",
       "    </tr>\n",
       "    <tr>\n",
       "      <th>331</th>\n",
       "      <td>0.772139</td>\n",
       "      <td>0.401662</td>\n",
       "      <td>0.935508</td>\n",
       "      <td>0.098401</td>\n",
       "      <td>0.753060</td>\n",
       "      <td>96</td>\n",
       "    </tr>\n",
       "    <tr>\n",
       "      <th>332</th>\n",
       "      <td>0.182836</td>\n",
       "      <td>0.942822</td>\n",
       "      <td>0.866652</td>\n",
       "      <td>0.673829</td>\n",
       "      <td>0.814392</td>\n",
       "      <td>79</td>\n",
       "    </tr>\n",
       "    <tr>\n",
       "      <th>333</th>\n",
       "      <td>0.09512</td>\n",
       "      <td>0.232116</td>\n",
       "      <td>0.897382</td>\n",
       "      <td>0.812279</td>\n",
       "      <td>0.087234</td>\n",
       "      <td>77</td>\n",
       "    </tr>\n",
       "  </tbody>\n",
       "</table>\n",
       "<p>334 rows × 6 columns</p>\n",
       "</div>"
      ],
      "text/plain": [
       "            0         1         2         3         4   5\n",
       "0         0.3  0.932020  0.646179  0.151600  0.746533  25\n",
       "1    0.205349  0.933184  0.869508  0.529538  0.380353  93\n",
       "2     0.77428  0.776519  0.679166  0.681100  0.979347  59\n",
       "3    0.211965  0.470820  0.967389  0.922481  0.850861  64\n",
       "4    0.441868  0.431195  0.686693  0.483623  0.585538   9\n",
       "..        ...       ...       ...       ...       ...  ..\n",
       "329  0.458612  0.019907  0.219379  0.266624  0.027880  12\n",
       "330  0.015787  0.162353  0.998286  0.227778  0.872603  98\n",
       "331  0.772139  0.401662  0.935508  0.098401  0.753060  96\n",
       "332  0.182836  0.942822  0.866652  0.673829  0.814392  79\n",
       "333   0.09512  0.232116  0.897382  0.812279  0.087234  77\n",
       "\n",
       "[334 rows x 6 columns]"
      ]
     },
     "execution_count": 37,
     "metadata": {},
     "output_type": "execute_result"
    }
   ],
   "source": [
    "newdf"
   ]
  },
  {
   "cell_type": "code",
   "execution_count": 36,
   "id": "a42e2e6d",
   "metadata": {},
   "outputs": [],
   "source": [
    "newdf['5']=np.random.randint(1,100,size=334)"
   ]
  },
  {
   "cell_type": "code",
   "execution_count": null,
   "id": "1449b0e2",
   "metadata": {},
   "outputs": [],
   "source": []
  },
  {
   "cell_type": "code",
   "execution_count": 23,
   "id": "c5c3f367",
   "metadata": {},
   "outputs": [
    {
     "data": {
      "text/plain": [
       "pandas.core.frame.DataFrame"
      ]
     },
     "execution_count": 23,
     "metadata": {},
     "output_type": "execute_result"
    }
   ],
   "source": [
    "type(newdf)"
   ]
  },
  {
   "cell_type": "code",
   "execution_count": 24,
   "id": "a140adb6",
   "metadata": {},
   "outputs": [
    {
     "data": {
      "text/plain": [
       "pandas.core.series.Series"
      ]
     },
     "execution_count": 24,
     "metadata": {},
     "output_type": "execute_result"
    }
   ],
   "source": [
    "type(ser)"
   ]
  },
  {
   "cell_type": "code",
   "execution_count": 25,
   "id": "a58692ae",
   "metadata": {},
   "outputs": [
    {
     "data": {
      "text/plain": [
       "pandas.core.series.Series"
      ]
     },
     "execution_count": 25,
     "metadata": {},
     "output_type": "execute_result"
    }
   ],
   "source": [
    "type(newdf[1])"
   ]
  },
  {
   "cell_type": "code",
   "execution_count": 26,
   "id": "22c829ee",
   "metadata": {},
   "outputs": [
    {
     "data": {
      "text/html": [
       "<div>\n",
       "<style scoped>\n",
       "    .dataframe tbody tr th:only-of-type {\n",
       "        vertical-align: middle;\n",
       "    }\n",
       "\n",
       "    .dataframe tbody tr th {\n",
       "        vertical-align: top;\n",
       "    }\n",
       "\n",
       "    .dataframe thead th {\n",
       "        text-align: right;\n",
       "    }\n",
       "</style>\n",
       "<table border=\"1\" class=\"dataframe\">\n",
       "  <thead>\n",
       "    <tr style=\"text-align: right;\">\n",
       "      <th></th>\n",
       "      <th>0</th>\n",
       "      <th>1</th>\n",
       "      <th>2</th>\n",
       "      <th>3</th>\n",
       "      <th>4</th>\n",
       "    </tr>\n",
       "  </thead>\n",
       "  <tbody>\n",
       "    <tr>\n",
       "      <th>count</th>\n",
       "      <td>334.000000</td>\n",
       "      <td>334.000000</td>\n",
       "      <td>334.000000</td>\n",
       "      <td>334.000000</td>\n",
       "      <td>334.000000</td>\n",
       "    </tr>\n",
       "    <tr>\n",
       "      <th>mean</th>\n",
       "      <td>0.504632</td>\n",
       "      <td>0.502289</td>\n",
       "      <td>0.502385</td>\n",
       "      <td>0.509815</td>\n",
       "      <td>0.486134</td>\n",
       "    </tr>\n",
       "    <tr>\n",
       "      <th>std</th>\n",
       "      <td>0.289712</td>\n",
       "      <td>0.300659</td>\n",
       "      <td>0.287942</td>\n",
       "      <td>0.296058</td>\n",
       "      <td>0.305335</td>\n",
       "    </tr>\n",
       "    <tr>\n",
       "      <th>min</th>\n",
       "      <td>0.000341</td>\n",
       "      <td>0.005152</td>\n",
       "      <td>0.003928</td>\n",
       "      <td>0.003080</td>\n",
       "      <td>0.003756</td>\n",
       "    </tr>\n",
       "    <tr>\n",
       "      <th>25%</th>\n",
       "      <td>0.244991</td>\n",
       "      <td>0.236843</td>\n",
       "      <td>0.258702</td>\n",
       "      <td>0.257578</td>\n",
       "      <td>0.204649</td>\n",
       "    </tr>\n",
       "    <tr>\n",
       "      <th>50%</th>\n",
       "      <td>0.508741</td>\n",
       "      <td>0.495165</td>\n",
       "      <td>0.489919</td>\n",
       "      <td>0.521463</td>\n",
       "      <td>0.468532</td>\n",
       "    </tr>\n",
       "    <tr>\n",
       "      <th>75%</th>\n",
       "      <td>0.763452</td>\n",
       "      <td>0.754257</td>\n",
       "      <td>0.759954</td>\n",
       "      <td>0.754529</td>\n",
       "      <td>0.776924</td>\n",
       "    </tr>\n",
       "    <tr>\n",
       "      <th>max</th>\n",
       "      <td>0.992432</td>\n",
       "      <td>0.998542</td>\n",
       "      <td>0.998286</td>\n",
       "      <td>0.997926</td>\n",
       "      <td>0.998279</td>\n",
       "    </tr>\n",
       "  </tbody>\n",
       "</table>\n",
       "</div>"
      ],
      "text/plain": [
       "                0           1           2           3           4\n",
       "count  334.000000  334.000000  334.000000  334.000000  334.000000\n",
       "mean     0.504632    0.502289    0.502385    0.509815    0.486134\n",
       "std      0.289712    0.300659    0.287942    0.296058    0.305335\n",
       "min      0.000341    0.005152    0.003928    0.003080    0.003756\n",
       "25%      0.244991    0.236843    0.258702    0.257578    0.204649\n",
       "50%      0.508741    0.495165    0.489919    0.521463    0.468532\n",
       "75%      0.763452    0.754257    0.759954    0.754529    0.776924\n",
       "max      0.992432    0.998542    0.998286    0.997926    0.998279"
      ]
     },
     "execution_count": 26,
     "metadata": {},
     "output_type": "execute_result"
    }
   ],
   "source": [
    "newdf.describe()"
   ]
  },
  {
   "cell_type": "code",
   "execution_count": 27,
   "id": "c9a2de5d",
   "metadata": {},
   "outputs": [
    {
     "data": {
      "text/plain": [
       "0    float64\n",
       "1    float64\n",
       "2    float64\n",
       "3    float64\n",
       "4    float64\n",
       "dtype: object"
      ]
     },
     "execution_count": 27,
     "metadata": {},
     "output_type": "execute_result"
    }
   ],
   "source": [
    "newdf.dtypes"
   ]
  },
  {
   "cell_type": "code",
   "execution_count": 28,
   "id": "08d136b8",
   "metadata": {},
   "outputs": [],
   "source": [
    "newdf[0][0]=\"Harry\""
   ]
  },
  {
   "cell_type": "code",
   "execution_count": 29,
   "id": "890ded35",
   "metadata": {},
   "outputs": [
    {
     "data": {
      "text/plain": [
       "0     object\n",
       "1    float64\n",
       "2    float64\n",
       "3    float64\n",
       "4    float64\n",
       "dtype: object"
      ]
     },
     "execution_count": 29,
     "metadata": {},
     "output_type": "execute_result"
    }
   ],
   "source": [
    "newdf.dtypes"
   ]
  },
  {
   "cell_type": "code",
   "execution_count": 30,
   "id": "ff8d4bc0",
   "metadata": {},
   "outputs": [
    {
     "data": {
      "text/plain": [
       "Int64Index([  0,   1,   2,   3,   4,   5,   6,   7,   8,   9,\n",
       "            ...\n",
       "            324, 325, 326, 327, 328, 329, 330, 331, 332, 333],\n",
       "           dtype='int64', length=334)"
      ]
     },
     "execution_count": 30,
     "metadata": {},
     "output_type": "execute_result"
    }
   ],
   "source": [
    "newdf.index"
   ]
  },
  {
   "cell_type": "code",
   "execution_count": 31,
   "id": "c391d886",
   "metadata": {},
   "outputs": [
    {
     "data": {
      "text/plain": [
       "RangeIndex(start=0, stop=5, step=1)"
      ]
     },
     "execution_count": 31,
     "metadata": {},
     "output_type": "execute_result"
    }
   ],
   "source": [
    "newdf.columns"
   ]
  },
  {
   "cell_type": "code",
   "execution_count": 32,
   "id": "2f004b07",
   "metadata": {},
   "outputs": [
    {
     "data": {
      "text/plain": [
       "array([['Harry', 0.9320197579235399, 0.6461794221603597,\n",
       "        0.1516004467603862, 0.7465329699313787],\n",
       "       [0.20534857843795984, 0.9331836254390293, 0.8695082574727067,\n",
       "        0.5295379760433855, 0.38035335842650864],\n",
       "       [0.774280180896581, 0.7765188114511113, 0.6791663622797026,\n",
       "        0.6810998683387, 0.9793465868826305],\n",
       "       ...,\n",
       "       [0.7721387504290408, 0.4016622711899137, 0.9355081563132605,\n",
       "        0.09840149791520203, 0.7530596412396984],\n",
       "       [0.18283635932626763, 0.9428215184268289, 0.8666522887303509,\n",
       "        0.6738291553663143, 0.8143920975410676],\n",
       "       [0.09511987502194197, 0.23211614449768925, 0.8973824234767163,\n",
       "        0.812279352647655, 0.08723433745515596]], dtype=object)"
      ]
     },
     "execution_count": 32,
     "metadata": {},
     "output_type": "execute_result"
    }
   ],
   "source": [
    "newdf.to_numpy()"
   ]
  },
  {
   "cell_type": "code",
   "execution_count": 33,
   "id": "45d37b49",
   "metadata": {},
   "outputs": [],
   "source": [
    "newdf[0][0]=0.3"
   ]
  },
  {
   "cell_type": "code",
   "execution_count": 34,
   "id": "7eed9958",
   "metadata": {},
   "outputs": [
    {
     "data": {
      "text/html": [
       "<div>\n",
       "<style scoped>\n",
       "    .dataframe tbody tr th:only-of-type {\n",
       "        vertical-align: middle;\n",
       "    }\n",
       "\n",
       "    .dataframe tbody tr th {\n",
       "        vertical-align: top;\n",
       "    }\n",
       "\n",
       "    .dataframe thead th {\n",
       "        text-align: right;\n",
       "    }\n",
       "</style>\n",
       "<table border=\"1\" class=\"dataframe\">\n",
       "  <thead>\n",
       "    <tr style=\"text-align: right;\">\n",
       "      <th></th>\n",
       "      <th>0</th>\n",
       "      <th>1</th>\n",
       "      <th>2</th>\n",
       "      <th>3</th>\n",
       "      <th>4</th>\n",
       "    </tr>\n",
       "  </thead>\n",
       "  <tbody>\n",
       "    <tr>\n",
       "      <th>0</th>\n",
       "      <td>0.3</td>\n",
       "      <td>0.932020</td>\n",
       "      <td>0.646179</td>\n",
       "      <td>0.151600</td>\n",
       "      <td>0.746533</td>\n",
       "    </tr>\n",
       "    <tr>\n",
       "      <th>1</th>\n",
       "      <td>0.205349</td>\n",
       "      <td>0.933184</td>\n",
       "      <td>0.869508</td>\n",
       "      <td>0.529538</td>\n",
       "      <td>0.380353</td>\n",
       "    </tr>\n",
       "    <tr>\n",
       "      <th>2</th>\n",
       "      <td>0.77428</td>\n",
       "      <td>0.776519</td>\n",
       "      <td>0.679166</td>\n",
       "      <td>0.681100</td>\n",
       "      <td>0.979347</td>\n",
       "    </tr>\n",
       "    <tr>\n",
       "      <th>3</th>\n",
       "      <td>0.211965</td>\n",
       "      <td>0.470820</td>\n",
       "      <td>0.967389</td>\n",
       "      <td>0.922481</td>\n",
       "      <td>0.850861</td>\n",
       "    </tr>\n",
       "    <tr>\n",
       "      <th>4</th>\n",
       "      <td>0.441868</td>\n",
       "      <td>0.431195</td>\n",
       "      <td>0.686693</td>\n",
       "      <td>0.483623</td>\n",
       "      <td>0.585538</td>\n",
       "    </tr>\n",
       "  </tbody>\n",
       "</table>\n",
       "</div>"
      ],
      "text/plain": [
       "          0         1         2         3         4\n",
       "0       0.3  0.932020  0.646179  0.151600  0.746533\n",
       "1  0.205349  0.933184  0.869508  0.529538  0.380353\n",
       "2   0.77428  0.776519  0.679166  0.681100  0.979347\n",
       "3  0.211965  0.470820  0.967389  0.922481  0.850861\n",
       "4  0.441868  0.431195  0.686693  0.483623  0.585538"
      ]
     },
     "execution_count": 34,
     "metadata": {},
     "output_type": "execute_result"
    }
   ],
   "source": [
    "newdf.head()"
   ]
  },
  {
   "cell_type": "code",
   "execution_count": 40,
   "id": "4fbf8399",
   "metadata": {},
   "outputs": [
    {
     "data": {
      "text/plain": [
       "0      1.544313\n",
       "1      1.779400\n",
       "2      2.339613\n",
       "3      2.740732\n",
       "4      1.755854\n",
       "         ...   \n",
       "329    0.513884\n",
       "330    2.098668\n",
       "331    1.786969\n",
       "332    2.354874\n",
       "333    1.796896\n",
       "Length: 334, dtype: float64"
      ]
     },
     "execution_count": 40,
     "metadata": {},
     "output_type": "execute_result"
    }
   ],
   "source": [
    "newdf[2]+newdf[3]+newdf[4]"
   ]
  },
  {
   "cell_type": "code",
   "execution_count": 41,
   "id": "dd4e912c",
   "metadata": {},
   "outputs": [],
   "source": [
    "newdf['average']=newdf[2]+newdf[3]+newdf[4]"
   ]
  },
  {
   "cell_type": "code",
   "execution_count": 44,
   "id": "567f61c3",
   "metadata": {},
   "outputs": [
    {
     "data": {
      "text/html": [
       "<div>\n",
       "<style scoped>\n",
       "    .dataframe tbody tr th:only-of-type {\n",
       "        vertical-align: middle;\n",
       "    }\n",
       "\n",
       "    .dataframe tbody tr th {\n",
       "        vertical-align: top;\n",
       "    }\n",
       "\n",
       "    .dataframe thead th {\n",
       "        text-align: right;\n",
       "    }\n",
       "</style>\n",
       "<table border=\"1\" class=\"dataframe\">\n",
       "  <thead>\n",
       "    <tr style=\"text-align: right;\">\n",
       "      <th></th>\n",
       "      <th>0</th>\n",
       "      <th>1</th>\n",
       "      <th>2</th>\n",
       "      <th>3</th>\n",
       "      <th>4</th>\n",
       "      <th>5</th>\n",
       "      <th>average</th>\n",
       "    </tr>\n",
       "  </thead>\n",
       "  <tbody>\n",
       "    <tr>\n",
       "      <th>0</th>\n",
       "      <td>0.3</td>\n",
       "      <td>0.93</td>\n",
       "      <td>0.65</td>\n",
       "      <td>0.15</td>\n",
       "      <td>0.75</td>\n",
       "      <td>25</td>\n",
       "      <td>1.54</td>\n",
       "    </tr>\n",
       "    <tr>\n",
       "      <th>1</th>\n",
       "      <td>0.205349</td>\n",
       "      <td>0.93</td>\n",
       "      <td>0.87</td>\n",
       "      <td>0.53</td>\n",
       "      <td>0.38</td>\n",
       "      <td>93</td>\n",
       "      <td>1.78</td>\n",
       "    </tr>\n",
       "    <tr>\n",
       "      <th>2</th>\n",
       "      <td>0.77428</td>\n",
       "      <td>0.78</td>\n",
       "      <td>0.68</td>\n",
       "      <td>0.68</td>\n",
       "      <td>0.98</td>\n",
       "      <td>59</td>\n",
       "      <td>2.34</td>\n",
       "    </tr>\n",
       "    <tr>\n",
       "      <th>3</th>\n",
       "      <td>0.211965</td>\n",
       "      <td>0.47</td>\n",
       "      <td>0.97</td>\n",
       "      <td>0.92</td>\n",
       "      <td>0.85</td>\n",
       "      <td>64</td>\n",
       "      <td>2.74</td>\n",
       "    </tr>\n",
       "    <tr>\n",
       "      <th>4</th>\n",
       "      <td>0.441868</td>\n",
       "      <td>0.43</td>\n",
       "      <td>0.69</td>\n",
       "      <td>0.48</td>\n",
       "      <td>0.59</td>\n",
       "      <td>9</td>\n",
       "      <td>1.76</td>\n",
       "    </tr>\n",
       "    <tr>\n",
       "      <th>...</th>\n",
       "      <td>...</td>\n",
       "      <td>...</td>\n",
       "      <td>...</td>\n",
       "      <td>...</td>\n",
       "      <td>...</td>\n",
       "      <td>...</td>\n",
       "      <td>...</td>\n",
       "    </tr>\n",
       "    <tr>\n",
       "      <th>329</th>\n",
       "      <td>0.458612</td>\n",
       "      <td>0.02</td>\n",
       "      <td>0.22</td>\n",
       "      <td>0.27</td>\n",
       "      <td>0.03</td>\n",
       "      <td>12</td>\n",
       "      <td>0.51</td>\n",
       "    </tr>\n",
       "    <tr>\n",
       "      <th>330</th>\n",
       "      <td>0.015787</td>\n",
       "      <td>0.16</td>\n",
       "      <td>1.00</td>\n",
       "      <td>0.23</td>\n",
       "      <td>0.87</td>\n",
       "      <td>98</td>\n",
       "      <td>2.10</td>\n",
       "    </tr>\n",
       "    <tr>\n",
       "      <th>331</th>\n",
       "      <td>0.772139</td>\n",
       "      <td>0.40</td>\n",
       "      <td>0.94</td>\n",
       "      <td>0.10</td>\n",
       "      <td>0.75</td>\n",
       "      <td>96</td>\n",
       "      <td>1.79</td>\n",
       "    </tr>\n",
       "    <tr>\n",
       "      <th>332</th>\n",
       "      <td>0.182836</td>\n",
       "      <td>0.94</td>\n",
       "      <td>0.87</td>\n",
       "      <td>0.67</td>\n",
       "      <td>0.81</td>\n",
       "      <td>79</td>\n",
       "      <td>2.35</td>\n",
       "    </tr>\n",
       "    <tr>\n",
       "      <th>333</th>\n",
       "      <td>0.09512</td>\n",
       "      <td>0.23</td>\n",
       "      <td>0.90</td>\n",
       "      <td>0.81</td>\n",
       "      <td>0.09</td>\n",
       "      <td>77</td>\n",
       "      <td>1.80</td>\n",
       "    </tr>\n",
       "  </tbody>\n",
       "</table>\n",
       "<p>334 rows × 7 columns</p>\n",
       "</div>"
      ],
      "text/plain": [
       "            0     1     2     3     4   5  average\n",
       "0         0.3  0.93  0.65  0.15  0.75  25     1.54\n",
       "1    0.205349  0.93  0.87  0.53  0.38  93     1.78\n",
       "2     0.77428  0.78  0.68  0.68  0.98  59     2.34\n",
       "3    0.211965  0.47  0.97  0.92  0.85  64     2.74\n",
       "4    0.441868  0.43  0.69  0.48  0.59   9     1.76\n",
       "..        ...   ...   ...   ...   ...  ..      ...\n",
       "329  0.458612  0.02  0.22  0.27  0.03  12     0.51\n",
       "330  0.015787  0.16  1.00  0.23  0.87  98     2.10\n",
       "331  0.772139  0.40  0.94  0.10  0.75  96     1.79\n",
       "332  0.182836  0.94  0.87  0.67  0.81  79     2.35\n",
       "333   0.09512  0.23  0.90  0.81  0.09  77     1.80\n",
       "\n",
       "[334 rows x 7 columns]"
      ]
     },
     "execution_count": 44,
     "metadata": {},
     "output_type": "execute_result"
    }
   ],
   "source": [
    "newdf.round(2)"
   ]
  },
  {
   "cell_type": "code",
   "execution_count": null,
   "id": "d2914cda",
   "metadata": {},
   "outputs": [],
   "source": [
    "newdf.T"
   ]
  },
  {
   "cell_type": "code",
   "execution_count": null,
   "id": "1d750490",
   "metadata": {},
   "outputs": [],
   "source": [
    "newdf.sort_index(axis=0,ascending=False)"
   ]
  },
  {
   "cell_type": "code",
   "execution_count": null,
   "id": "b60b3458",
   "metadata": {},
   "outputs": [],
   "source": [
    "newdf[0]"
   ]
  },
  {
   "cell_type": "code",
   "execution_count": null,
   "id": "26f22857",
   "metadata": {},
   "outputs": [],
   "source": [
    "newdf.head()"
   ]
  },
  {
   "cell_type": "code",
   "execution_count": null,
   "id": "46ff989c",
   "metadata": {},
   "outputs": [],
   "source": [
    "newdf2=newdf #it just a view that will points newdf ,if we change anything in newdf2 ,it will be change in newdf"
   ]
  },
  {
   "cell_type": "code",
   "execution_count": null,
   "id": "63adb0bb",
   "metadata": {},
   "outputs": [],
   "source": [
    "newdf2[0][0]=9783"
   ]
  },
  {
   "cell_type": "code",
   "execution_count": null,
   "id": "34d0bc36",
   "metadata": {},
   "outputs": [],
   "source": [
    "newdf.head()"
   ]
  },
  {
   "cell_type": "code",
   "execution_count": null,
   "id": "bb20b86e",
   "metadata": {},
   "outputs": [],
   "source": [
    "newdf3=newdf.copy()"
   ]
  },
  {
   "cell_type": "code",
   "execution_count": null,
   "id": "ec6ddc1b",
   "metadata": {},
   "outputs": [],
   "source": [
    "newdf3[0][0]=575"
   ]
  },
  {
   "cell_type": "code",
   "execution_count": null,
   "id": "4d60730c",
   "metadata": {},
   "outputs": [],
   "source": [
    "newdf"
   ]
  },
  {
   "cell_type": "code",
   "execution_count": null,
   "id": "48aaa991",
   "metadata": {},
   "outputs": [],
   "source": [
    "newdf3"
   ]
  },
  {
   "cell_type": "code",
   "execution_count": null,
   "id": "a191ef1c",
   "metadata": {},
   "outputs": [],
   "source": [
    "newdf.loc[0,0]=654"
   ]
  },
  {
   "cell_type": "code",
   "execution_count": null,
   "id": "e488b108",
   "metadata": {},
   "outputs": [],
   "source": [
    "newdf.head(2)"
   ]
  },
  {
   "cell_type": "code",
   "execution_count": null,
   "id": "24d518a4",
   "metadata": {},
   "outputs": [],
   "source": [
    "newdf.columns=list(\"ABCDE\")"
   ]
  },
  {
   "cell_type": "code",
   "execution_count": null,
   "id": "8e4ca727",
   "metadata": {},
   "outputs": [],
   "source": [
    "newdf.loc[0,'A']=729"
   ]
  },
  {
   "cell_type": "code",
   "execution_count": null,
   "id": "9ce9a118",
   "metadata": {},
   "outputs": [],
   "source": [
    "newdf=newdf.drop(0,axis=1)"
   ]
  },
  {
   "cell_type": "code",
   "execution_count": null,
   "id": "89472aee",
   "metadata": {},
   "outputs": [],
   "source": [
    "newdf.head()"
   ]
  },
  {
   "cell_type": "code",
   "execution_count": null,
   "id": "8c1728ff",
   "metadata": {},
   "outputs": [],
   "source": [
    "newdf.loc[[1,2],['C','D']]"
   ]
  },
  {
   "cell_type": "code",
   "execution_count": null,
   "id": "26fab749",
   "metadata": {},
   "outputs": [],
   "source": [
    "newdf.loc[:,['C','D']]"
   ]
  },
  {
   "cell_type": "code",
   "execution_count": null,
   "id": "c55141b6",
   "metadata": {},
   "outputs": [],
   "source": [
    "newdf.loc[[1,2],:]"
   ]
  },
  {
   "cell_type": "code",
   "execution_count": null,
   "id": "77397f77",
   "metadata": {},
   "outputs": [],
   "source": [
    "newdf.loc[(newdf['A']<0.3) & (newdf['C']>0.1)]"
   ]
  },
  {
   "cell_type": "code",
   "execution_count": null,
   "id": "a51857a2",
   "metadata": {},
   "outputs": [],
   "source": [
    "newdf.head()"
   ]
  },
  {
   "cell_type": "code",
   "execution_count": null,
   "id": "c6913789",
   "metadata": {},
   "outputs": [],
   "source": [
    "newdf.iloc[0,4]"
   ]
  },
  {
   "cell_type": "code",
   "execution_count": null,
   "id": "8e5a6c1b",
   "metadata": {},
   "outputs": [],
   "source": [
    "newdf.iloc[[0,5],[1,2]]"
   ]
  },
  {
   "cell_type": "code",
   "execution_count": null,
   "id": "bb23c636",
   "metadata": {},
   "outputs": [],
   "source": [
    "newdf.head(3)"
   ]
  },
  {
   "cell_type": "code",
   "execution_count": null,
   "id": "31fcffd8",
   "metadata": {},
   "outputs": [],
   "source": [
    "newdf.drop(['A','C'],axis=1)"
   ]
  },
  {
   "cell_type": "code",
   "execution_count": null,
   "id": "7576b0ce",
   "metadata": {},
   "outputs": [],
   "source": [
    "newdf.drop(['A','D'],axis=1,inplace=True)    #this will make change in original newdf"
   ]
  },
  {
   "cell_type": "code",
   "execution_count": null,
   "id": "362ae29d",
   "metadata": {},
   "outputs": [],
   "source": [
    "newdf"
   ]
  },
  {
   "cell_type": "code",
   "execution_count": null,
   "id": "bd2f585d",
   "metadata": {},
   "outputs": [],
   "source": [
    "newdf.drop([1,5],axis=0,inplace=True)"
   ]
  },
  {
   "cell_type": "code",
   "execution_count": null,
   "id": "1c3f5ccc",
   "metadata": {},
   "outputs": [],
   "source": [
    "newdf.head()"
   ]
  },
  {
   "cell_type": "code",
   "execution_count": null,
   "id": "04cbf27e",
   "metadata": {},
   "outputs": [],
   "source": [
    "newdf.reset_index(drop=True,inplace=True)"
   ]
  },
  {
   "cell_type": "code",
   "execution_count": null,
   "id": "a547d8fc",
   "metadata": {},
   "outputs": [],
   "source": [
    "newdf"
   ]
  },
  {
   "cell_type": "code",
   "execution_count": null,
   "id": "62f7115e",
   "metadata": {},
   "outputs": [],
   "source": [
    "newdf['B'].isnull()"
   ]
  },
  {
   "cell_type": "code",
   "execution_count": null,
   "id": "2e166891",
   "metadata": {},
   "outputs": [],
   "source": [
    "newdf['B']=None"
   ]
  },
  {
   "cell_type": "code",
   "execution_count": null,
   "id": "56522abc",
   "metadata": {},
   "outputs": [],
   "source": [
    "newdf"
   ]
  },
  {
   "cell_type": "code",
   "execution_count": null,
   "id": "0e3cc3f2",
   "metadata": {},
   "outputs": [],
   "source": [
    "newdf.loc[:,'B']=None"
   ]
  },
  {
   "cell_type": "code",
   "execution_count": null,
   "id": "6a96f031",
   "metadata": {},
   "outputs": [],
   "source": [
    "newdf.head()"
   ]
  },
  {
   "cell_type": "code",
   "execution_count": null,
   "id": "3fdd6a96",
   "metadata": {},
   "outputs": [],
   "source": [
    "df =pd.DataFrame({'Name': ['Lisa', 'Meghna', 'David', 'Lisa'], 'ID': [1, 2, 3, 4], 'Salary': [np.nan, np.nan, np.nan, pd.NaT],\n",
    "      'Role': ['CEO', None, pd.NaT, pd.NaT]})"
   ]
  },
  {
   "cell_type": "code",
   "execution_count": null,
   "id": "71e0ec16",
   "metadata": {},
   "outputs": [],
   "source": [
    "df\n"
   ]
  },
  {
   "cell_type": "code",
   "execution_count": null,
   "id": "7c3eb8f3",
   "metadata": {},
   "outputs": [],
   "source": [
    "df.dropna()"
   ]
  },
  {
   "cell_type": "code",
   "execution_count": null,
   "id": "57c36cda",
   "metadata": {},
   "outputs": [],
   "source": [
    "df"
   ]
  },
  {
   "cell_type": "code",
   "execution_count": null,
   "id": "265adec9",
   "metadata": {},
   "outputs": [],
   "source": [
    "df.dropna(how='all',axis=1)"
   ]
  },
  {
   "cell_type": "code",
   "execution_count": null,
   "id": "15b82932",
   "metadata": {},
   "outputs": [],
   "source": [
    "df.drop_duplicates(subset=['Name'],keep=False)"
   ]
  },
  {
   "cell_type": "code",
   "execution_count": null,
   "id": "93f22369",
   "metadata": {},
   "outputs": [],
   "source": [
    "df.shape"
   ]
  },
  {
   "cell_type": "code",
   "execution_count": null,
   "id": "1fdb01bf",
   "metadata": {},
   "outputs": [],
   "source": [
    "df.info()"
   ]
  },
  {
   "cell_type": "code",
   "execution_count": null,
   "id": "480a8386",
   "metadata": {},
   "outputs": [],
   "source": [
    "df.notnull()"
   ]
  },
  {
   "cell_type": "code",
   "execution_count": null,
   "id": "7e5ee8da",
   "metadata": {},
   "outputs": [],
   "source": [
    "#create a dataframe which contains only integers with 3 rows and 2 columns \n",
    "#run following dataframe methods on them\n",
    "df.describe()\n",
    "df.mean()\n",
    "df.corr()\n",
    "df.count()\n",
    "df.max()\n",
    "df.min()\n",
    "df.median()\n",
    "df.std()"
   ]
  },
  {
   "cell_type": "code",
   "execution_count": null,
   "id": "2775a72a",
   "metadata": {},
   "outputs": [],
   "source": [
    "data = pd.read_excel('data1.xlsx',sheet_name='Sheet2')"
   ]
  },
  {
   "cell_type": "code",
   "execution_count": null,
   "id": "8a60e664",
   "metadata": {},
   "outputs": [],
   "source": [
    "data"
   ]
  },
  {
   "cell_type": "code",
   "execution_count": null,
   "id": "e60f6f57",
   "metadata": {},
   "outputs": [],
   "source": [
    "data.iloc[0,0]=34"
   ]
  },
  {
   "cell_type": "code",
   "execution_count": null,
   "id": "fbe06167",
   "metadata": {},
   "outputs": [],
   "source": [
    "data"
   ]
  },
  {
   "cell_type": "code",
   "execution_count": null,
   "id": "7a23685a",
   "metadata": {},
   "outputs": [],
   "source": [
    "data2=data.copy()\n",
    "with pd.ExcelWriter('data1.xlsx') as writer:\n",
    "    data.to_excel(writer,sheet_name='Sheet1')\n",
    "    data2.to_excel(writer,sheet_name='Sheet2')"
   ]
  },
  {
   "cell_type": "code",
   "execution_count": null,
   "id": "78f2644e",
   "metadata": {},
   "outputs": [],
   "source": [
    "data.to_excel('data1.xlsx',sheet_name='Sheet2')\n"
   ]
  },
  {
   "cell_type": "code",
   "execution_count": 38,
   "id": "5043a81d",
   "metadata": {},
   "outputs": [
    {
     "data": {
      "text/plain": [
       "array([48.49474968, 72.14850247, 17.08532487, 86.59474043,  9.52674744,\n",
       "       37.63955723, 44.57651596, 61.56067507,  7.5512402 , 26.2171114 ,\n",
       "       93.06250827,  6.42119402, 81.66309391, 32.23479181, 76.98905058,\n",
       "       37.64243214, 17.50003318, 84.97370886, 36.75394811, 46.42620254,\n",
       "        3.98911762, 68.34206721, 35.95684299, 40.51925842, 61.75310329,\n",
       "       65.54919477, 21.80260858, 97.41122586, 82.92127803, 14.16393266,\n",
       "       78.44185876, 11.74563923, 57.06261731, 12.80237867, 59.93731026,\n",
       "       15.05728504, 59.69656542, 90.28307171, 40.20034763, 39.77849661,\n",
       "       74.18841393,  2.36330343, 70.49171576, 73.12480207, 48.14669855,\n",
       "       25.36239425, 30.30742631, 91.73679447, 82.72580719, 19.76612671,\n",
       "       58.08047145, 56.5711565 , 76.95702663, 97.24059317, 20.47972238,\n",
       "       36.529292  , 11.6290958 , 74.66992597, 52.29652325, 68.93209029,\n",
       "       60.87128893, 70.47275014, 69.01668467, 96.73679169, 37.40789922,\n",
       "       80.9624821 ,  7.34873203, 59.4014582 , 87.50982189, 15.66267881,\n",
       "       33.0682919 , 97.45076461, 59.82259032, 39.40483887, 82.43921152,\n",
       "       93.71857551, 51.20373015, 43.37308171,  5.33302444, 84.51177488,\n",
       "       21.91302254, 83.38516158, 76.33245855, 99.10417555, 63.87736243,\n",
       "       29.39265198,  3.59320973, 51.0134215 , 40.59999464,  4.2840136 ,\n",
       "       59.21069848, 22.04666758, 77.29927692, 46.39274929, 29.37597295,\n",
       "       48.93205035, 22.19116644,  8.2948123 , 28.45957728, 25.22759496])"
      ]
     },
     "execution_count": 38,
     "metadata": {},
     "output_type": "execute_result"
    }
   ],
   "source": [
    "np.random.uniform(1,100,size=100)"
   ]
  },
  {
   "cell_type": "code",
   "execution_count": null,
   "id": "befc23e3",
   "metadata": {},
   "outputs": [],
   "source": []
  }
 ],
 "metadata": {
  "kernelspec": {
   "display_name": "Python 3 (ipykernel)",
   "language": "python",
   "name": "python3"
  },
  "language_info": {
   "codemirror_mode": {
    "name": "ipython",
    "version": 3
   },
   "file_extension": ".py",
   "mimetype": "text/x-python",
   "name": "python",
   "nbconvert_exporter": "python",
   "pygments_lexer": "ipython3",
   "version": "3.10.5"
  }
 },
 "nbformat": 4,
 "nbformat_minor": 5
}
